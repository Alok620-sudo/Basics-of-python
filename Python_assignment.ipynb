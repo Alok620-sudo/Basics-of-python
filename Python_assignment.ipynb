{
  "nbformat": 4,
  "nbformat_minor": 0,
  "metadata": {
    "colab": {
      "provenance": []
    },
    "kernelspec": {
      "name": "python3",
      "display_name": "Python 3"
    },
    "language_info": {
      "name": "python"
    }
  },
  "cells": [
    {
      "cell_type": "markdown",
      "source": [
        "#Basics of Python\n"
      ],
      "metadata": {
        "id": "Q08ow0qlvEmD"
      }
    },
    {
      "cell_type": "markdown",
      "source": [
        "1. What is python, and why is it popular?\n",
        "   - Python is a programming language known for it's simplicity and readibility. It is popular because it's easy to learn, has a huge community, and is used in many fields like web development, data science, AI and automation.\n",
        "\n",
        "2. What is an interpreter in python?\n",
        "   - An Interpreter is a program that reads and execute python code line by line, instead of compiling it all at once like some other languages.\n",
        "\n",
        "3. What are pre-defined keywords in python?\n",
        "   - Keywords are special words that have specific meanings in python and can't be used as variable names. for e.g., include if, else, for, while, def, return etc.\n",
        "\n",
        "4. Can keywords be used as variables names?\n",
        "   - No, python doesn't allow keywords to be used as variables names because they already have special meanings in the language.\n",
        "\n",
        "5. What is mutability in python?\n",
        "   - Mutability refers to wheather a data type can be changed after it is created. If it can be modified, it is mutable. If it can't it is immutable.\n",
        "\n",
        "6. Why are lists mutable, but tuples are immutable?\n",
        "   - Lists allow modification, meaning you can add, remove, or change items after creating them.  Tuples on the other hand, are fixed and can't be changed after they are created.\n",
        "\n",
        "7. What is the difference between == and is operators in python?\n",
        "   - * == checks if two values are equal.\n",
        "     * is checks if two variables refer to the same object in memory.\n",
        "\n",
        "8. What are logical operators in python?\n",
        "   - Logical operators are used to combine multiple conditions:\n",
        "    * and (both condition must be true)\n",
        "    * or (atleast one condition must be true)\n",
        "    * not (reverse the condition)\n",
        "\n",
        "9. What is type casting in python?\n",
        "   - Type casting in python means converting one data type into another, like turning a string into a number using int(\"10\").\n",
        "\n",
        "10. What is the difference between implicit and explicit type casting?\n",
        "   - * Implicit casting happens automatically. e.g., (Python converts 2+3.5 into 5.5).\n",
        "     * Explicit casting is done manually using functions like int(), float(), or str().\n",
        "\n",
        "11. What is the purpose of conditional statement in python?\n",
        "  - Conditional statements like if, else, and elif let the program make decesions based on conditions.\n",
        "\n",
        "12. How does the elif statement work?\n",
        "  - elif (else if) is used whom you have multiple conditions to check. If the first if condition is false, python checks the elif condition before moving to else.\n",
        "\n",
        "13. What is the difference between for and while loops?\n",
        "  - * for loops are used when you know how many times you want to repeat something.\n",
        "    * while loops are used when you want to repeat something until a condition is meant.\n",
        "\n",
        "14. Describe a scenerio where a while loop is more suitable than a for loop?\n",
        "  - A while loop is better when you don't know beforehand how many times a loop will run. for e.g., if you keep asking a user for input until they enter a correct password you should use while loop."
      ],
      "metadata": {
        "id": "9sHpdPHDvNxw"
      }
    },
    {
      "cell_type": "code",
      "execution_count": 1,
      "metadata": {
        "colab": {
          "base_uri": "https://localhost:8080/"
        },
        "id": "z6s8Bb0Xu3xU",
        "outputId": "4d318b83-6a02-41d9-a8fa-dce5dab98b33"
      },
      "outputs": [
        {
          "output_type": "stream",
          "name": "stdout",
          "text": [
            "Hello World!\n"
          ]
        }
      ],
      "source": [
        "# Write a python program to print \"Hello World!\"\n",
        "\n",
        "print(\"Hello World!\")"
      ]
    },
    {
      "cell_type": "code",
      "source": [
        "# Write a python program that displays your name and age.\n",
        "\n",
        "name = \"Alok\"\n",
        "age = 25\n",
        "print (\"My name is\", name, \"and I am\", age, \"years old.\")"
      ],
      "metadata": {
        "colab": {
          "base_uri": "https://localhost:8080/"
        },
        "id": "vRpXyXSv38E5",
        "outputId": "3ab11ed8-8a91-4ca1-f9e4-9d6fe895f2f6"
      },
      "execution_count": 2,
      "outputs": [
        {
          "output_type": "stream",
          "name": "stdout",
          "text": [
            "My name is Alok and I am 25 years old.\n"
          ]
        }
      ]
    },
    {
      "cell_type": "code",
      "source": [
        "# Write code to print all the pre-defined keywords in python using the keyword library.\n",
        "\n",
        "help('keywords')"
      ],
      "metadata": {
        "colab": {
          "base_uri": "https://localhost:8080/"
        },
        "id": "OXcWl7Qa6OWR",
        "outputId": "06fb8ef2-cebe-4265-fac3-1f67de8e53fe"
      },
      "execution_count": 4,
      "outputs": [
        {
          "output_type": "stream",
          "name": "stdout",
          "text": [
            "\n",
            "Here is a list of the Python keywords.  Enter any keyword to get more help.\n",
            "\n",
            "False               class               from                or\n",
            "None                continue            global              pass\n",
            "True                def                 if                  raise\n",
            "and                 del                 import              return\n",
            "as                  elif                in                  try\n",
            "assert              else                is                  while\n",
            "async               except              lambda              with\n",
            "await               finally             nonlocal            yield\n",
            "break               for                 not                 \n",
            "\n"
          ]
        }
      ]
    },
    {
      "cell_type": "code",
      "source": [
        "# Write a program that checks if a given word is a python keyword.\n",
        "\n",
        "import keyword\n",
        "word = \"if\"\n",
        "if keyword.iskeyword(word):\n",
        "  print(word, \"is a python keyword.\")\n",
        "else:\n",
        "  print(word, \"is not a python keyword.\")"
      ],
      "metadata": {
        "colab": {
          "base_uri": "https://localhost:8080/"
        },
        "id": "-Qad-6Tu6j_w",
        "outputId": "e3c5c9a3-8e76-400f-c1e6-5594a4f3e04b"
      },
      "execution_count": 6,
      "outputs": [
        {
          "output_type": "stream",
          "name": "stdout",
          "text": [
            "if is a python keyword.\n"
          ]
        }
      ]
    },
    {
      "cell_type": "code",
      "source": [
        "# create a list and tuple in python, and demonstrate how attempting to change an element works differently for each.\n",
        "\n",
        "my_list = [1, 2, 3]\n",
        "my_tuple = (1, 2, 3)\n",
        "\n",
        "my_list[0] = 4\n",
        "print(my_list)\n",
        "\n",
        "my_tuple[0] = 4\n",
        "print(my_tuple)"
      ],
      "metadata": {
        "colab": {
          "base_uri": "https://localhost:8080/",
          "height": 211
        },
        "id": "RQ_6Mi3c7PFd",
        "outputId": "fa9fa392-eacb-474d-a898-1869cf342829"
      },
      "execution_count": 7,
      "outputs": [
        {
          "output_type": "stream",
          "name": "stdout",
          "text": [
            "[4, 2, 3]\n"
          ]
        },
        {
          "output_type": "error",
          "ename": "TypeError",
          "evalue": "'tuple' object does not support item assignment",
          "traceback": [
            "\u001b[0;31m---------------------------------------------------------------------------\u001b[0m",
            "\u001b[0;31mTypeError\u001b[0m                                 Traceback (most recent call last)",
            "\u001b[0;32m<ipython-input-7-61a35b80b5e1>\u001b[0m in \u001b[0;36m<cell line: 0>\u001b[0;34m()\u001b[0m\n\u001b[1;32m      7\u001b[0m \u001b[0mprint\u001b[0m\u001b[0;34m(\u001b[0m\u001b[0mmy_list\u001b[0m\u001b[0;34m)\u001b[0m\u001b[0;34m\u001b[0m\u001b[0;34m\u001b[0m\u001b[0m\n\u001b[1;32m      8\u001b[0m \u001b[0;34m\u001b[0m\u001b[0m\n\u001b[0;32m----> 9\u001b[0;31m \u001b[0mmy_tuple\u001b[0m\u001b[0;34m[\u001b[0m\u001b[0;36m0\u001b[0m\u001b[0;34m]\u001b[0m \u001b[0;34m=\u001b[0m \u001b[0;36m4\u001b[0m\u001b[0;34m\u001b[0m\u001b[0;34m\u001b[0m\u001b[0m\n\u001b[0m\u001b[1;32m     10\u001b[0m \u001b[0mprint\u001b[0m\u001b[0;34m(\u001b[0m\u001b[0mmy_tuple\u001b[0m\u001b[0;34m)\u001b[0m\u001b[0;34m\u001b[0m\u001b[0;34m\u001b[0m\u001b[0m\n",
            "\u001b[0;31mTypeError\u001b[0m: 'tuple' object does not support item assignment"
          ]
        }
      ]
    },
    {
      "cell_type": "code",
      "source": [
        "# write a function to demonstrate the behaviour of mutable and immutable arguments.\n",
        "\n",
        "def modify_list(lst):\n",
        "  lst.append(4) #changes the original list\n",
        "\n",
        "def modify_tuple(tup):\n",
        "  tup = (1, 2, 3, 4) #doesn't change the original tuple\n",
        "\n",
        "my_list = [1, 2, 3]\n",
        "my_tuple = \"hello\"\n",
        "modify_list(my_list)\n",
        "modify_tuple(my_tuple)\n",
        "print(my_list)\n",
        "print(my_tuple)"
      ],
      "metadata": {
        "colab": {
          "base_uri": "https://localhost:8080/"
        },
        "id": "-kXdmTHp8Dcd",
        "outputId": "3c7dd69e-af58-460e-9e42-2ac7c8c7526e"
      },
      "execution_count": 8,
      "outputs": [
        {
          "output_type": "stream",
          "name": "stdout",
          "text": [
            "[1, 2, 3, 4]\n",
            "hello\n"
          ]
        }
      ]
    },
    {
      "cell_type": "code",
      "source": [
        "# write a program to demonstrate the use of logical operators.\n",
        "\n",
        "a = True\n",
        "b = False\n",
        "print (a and b)\n",
        "print (a or b)\n",
        "print (not a)"
      ],
      "metadata": {
        "colab": {
          "base_uri": "https://localhost:8080/"
        },
        "id": "C2egsxJf9HBB",
        "outputId": "cf69466e-9b27-4e28-803b-35d7a586ca27"
      },
      "execution_count": 9,
      "outputs": [
        {
          "output_type": "stream",
          "name": "stdout",
          "text": [
            "False\n",
            "True\n",
            "False\n"
          ]
        }
      ]
    },
    {
      "cell_type": "code",
      "source": [
        "# write a python program to convert user input from string to integer, float and boolean types.\n",
        "\n",
        "user_input = input(\"Enter a number:\")\n",
        "int_value = int(user_input)\n",
        "float_value = float(user_input)\n",
        "bool_value = bool(user_input)\n",
        "print(\"Integer:\", int_value)\n",
        "print(\"Float:\", float_value)\n",
        "print(\"Boolean:\", bool_value)"
      ],
      "metadata": {
        "colab": {
          "base_uri": "https://localhost:8080/"
        },
        "id": "8L-xZpfz9bBf",
        "outputId": "f869c5fc-80d3-47ab-9ab9-287a223e459e"
      },
      "execution_count": 10,
      "outputs": [
        {
          "output_type": "stream",
          "name": "stdout",
          "text": [
            "Enter a number:2\n",
            "Integer: 2\n",
            "Float: 2.0\n",
            "Boolean: True\n"
          ]
        }
      ]
    },
    {
      "cell_type": "code",
      "source": [
        "# write code to demostrate type casting with list elements.\n",
        "\n",
        "my_list = [\"10\", \"20\", \"30\"]\n",
        "int_list = [int(x) for x in my_list]\n",
        "print(int_list)"
      ],
      "metadata": {
        "colab": {
          "base_uri": "https://localhost:8080/"
        },
        "id": "PzjpCwf8-J_D",
        "outputId": "76ecf0d4-5269-41df-9fa8-31ab423abeef"
      },
      "execution_count": 11,
      "outputs": [
        {
          "output_type": "stream",
          "name": "stdout",
          "text": [
            "[10, 20, 30]\n"
          ]
        }
      ]
    },
    {
      "cell_type": "code",
      "source": [
        "# write a program that checks if a number is positive, negative or zero.\n",
        "\n",
        "num = int(input(\"Enter a number:\"))\n",
        "if num > 0:\n",
        "  print (\"Positive number\")\n",
        "elif num < 0:\n",
        "    print (\"Negative number\")\n",
        "else:\n",
        "  print (\"zero\")"
      ],
      "metadata": {
        "colab": {
          "base_uri": "https://localhost:8080/"
        },
        "id": "AV9TWsmG-rc5",
        "outputId": "3f8169f3-ecc7-480a-ade4-e2ccd0e530d5"
      },
      "execution_count": 15,
      "outputs": [
        {
          "output_type": "stream",
          "name": "stdout",
          "text": [
            "Enter a number:5\n",
            "Positive number\n"
          ]
        }
      ]
    },
    {
      "cell_type": "code",
      "source": [
        "# write a for loop to print number from 1 to 10.\n",
        "\n",
        "for i in range(1, 11):\n",
        "  print(i)"
      ],
      "metadata": {
        "colab": {
          "base_uri": "https://localhost:8080/"
        },
        "id": "OsDrXEjS_TLy",
        "outputId": "963b620e-bdc8-4d82-de19-321d071d4f5a"
      },
      "execution_count": 16,
      "outputs": [
        {
          "output_type": "stream",
          "name": "stdout",
          "text": [
            "1\n",
            "2\n",
            "3\n",
            "4\n",
            "5\n",
            "6\n",
            "7\n",
            "8\n",
            "9\n",
            "10\n"
          ]
        }
      ]
    },
    {
      "cell_type": "code",
      "source": [
        "# write a python program to find the sum of all even numbers betweeb 1 to 50.\n",
        "\n",
        "total = sum(i for i in range(1, 51)if i % 2 == 0)\n",
        "print(\"sum of even numbers:\", total)"
      ],
      "metadata": {
        "colab": {
          "base_uri": "https://localhost:8080/"
        },
        "id": "u8vBOiFWCVfU",
        "outputId": "36c44893-de00-4de9-9205-fefcbb6598be"
      },
      "execution_count": 22,
      "outputs": [
        {
          "output_type": "stream",
          "name": "stdout",
          "text": [
            "sum of even numbers: 650\n"
          ]
        }
      ]
    },
    {
      "cell_type": "code",
      "source": [
        "# Write a program to reverse a string using a while loop.\n",
        "\n",
        "text = input(\"Enter a string:\")\n",
        "reversed_text = \"\"\n",
        "i = int(text) - 1\n",
        "while i >= 0:\n",
        "  reversed_text += text[i]\n",
        "  i -=1\n",
        "  print(\"reversed string:\", reversed_text)"
      ],
      "metadata": {
        "colab": {
          "base_uri": "https://localhost:8080/"
        },
        "id": "RPJvOeiQ_ntE",
        "outputId": "785ce13f-b43a-4929-8562-11d331f72ba7"
      },
      "execution_count": 20,
      "outputs": [
        {
          "output_type": "stream",
          "name": "stdout",
          "text": [
            "Enter a string:1\n",
            "reversed string: 1\n"
          ]
        }
      ]
    },
    {
      "cell_type": "code",
      "source": [
        "# write a program to calculate the factorial of a number provided by the user using a while loop.\n",
        "\n",
        "num = int(input(\"Enter a number:\"))\n",
        "factorial = 1\n",
        "i = num\n",
        "while i > 0:\n",
        "  factorial *= i\n",
        "  i -= 1\n",
        "print(\"Factorial of\", num, \"is\", factorial)"
      ],
      "metadata": {
        "colab": {
          "base_uri": "https://localhost:8080/"
        },
        "id": "TSQkPkLVAMxi",
        "outputId": "6d4391e2-0c54-46c8-89e6-17a5977d3501"
      },
      "execution_count": 21,
      "outputs": [
        {
          "output_type": "stream",
          "name": "stdout",
          "text": [
            "Enter a number:2\n",
            "Factorial of 2 is 2\n"
          ]
        }
      ]
    },
    {
      "cell_type": "code",
      "source": [],
      "metadata": {
        "id": "76R93irTBS6t"
      },
      "execution_count": 21,
      "outputs": []
    }
  ]
}